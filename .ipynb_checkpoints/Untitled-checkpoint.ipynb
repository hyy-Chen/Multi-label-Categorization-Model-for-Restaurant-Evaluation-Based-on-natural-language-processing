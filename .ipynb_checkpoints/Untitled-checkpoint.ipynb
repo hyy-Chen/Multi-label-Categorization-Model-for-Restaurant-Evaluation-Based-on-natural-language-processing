{
 "cells": [
  {
   "cell_type": "code",
   "execution_count": 1,
   "id": "e134f6a4",
   "metadata": {},
   "outputs": [],
   "source": [
    "import pandas as pd\n",
    "\n",
    "df = pd.read_excel('data/data.xlsx')"
   ]
  },
  {
   "cell_type": "code",
   "execution_count": 2,
   "id": "f52ea65f",
   "metadata": {},
   "outputs": [
    {
     "name": "stderr",
     "output_type": "stream",
     "text": [
      "Building prefix dict from the default dictionary ...\n",
      "Loading model from cache C:\\Users\\ikkk\\AppData\\Local\\Temp\\jieba.cache\n",
      "Loading model cost 0.576 seconds.\n",
      "Prefix dict has been built successfully.\n"
     ]
    }
   ],
   "source": [
    "import jieba\n",
    "\n",
    "df['text'] = df['text'].apply(lambda x: ' '.join(jieba.cut(x)))"
   ]
  },
  {
   "cell_type": "code",
   "execution_count": 3,
   "id": "a3ac4b13",
   "metadata": {},
   "outputs": [],
   "source": [
    "with open('data/stopwords.txt', 'r', encoding='utf-8') as f:\n",
    "    stopwords = f.read().splitlines()\n",
    "\n",
    "df['text'] = df['text'].apply(lambda x: ' '.join([word for word in x.split() if word not in stopwords]))"
   ]
  },
  {
   "cell_type": "code",
   "execution_count": 4,
   "id": "b68a21bd",
   "metadata": {},
   "outputs": [],
   "source": [
    "from sklearn.feature_extraction.text import CountVectorizer\n",
    "\n",
    "vectorizer = CountVectorizer()\n",
    "X = vectorizer.fit_transform(df['text'])"
   ]
  },
  {
   "cell_type": "code",
   "execution_count": 5,
   "id": "0dff1f1e",
   "metadata": {},
   "outputs": [],
   "source": [
    "from sklearn.naive_bayes import MultinomialNB\n",
    "\n",
    "labels = ['味道好', '味道差', '态度好', '态度差', '卫生状态', '不新鲜']\n",
    "classifiers = {}\n",
    "for label in labels:\n",
    "    y = df[label]\n",
    "    clf = MultinomialNB()\n",
    "    clf.fit(X, y)\n",
    "    classifiers[label] = clf"
   ]
  },
  {
   "cell_type": "code",
   "execution_count": 6,
   "id": "708ac1b3",
   "metadata": {},
   "outputs": [],
   "source": [
    "new_text = '这家店的味道很好，态度也很好，但是卫生有点问题'\n",
    "new_text = ' '.join(jieba.cut(new_text))\n",
    "new_text = ' '.join([word for word in new_text.split() if word not in stopwords])"
   ]
  },
  {
   "cell_type": "code",
   "execution_count": 7,
   "id": "de2a85c2",
   "metadata": {},
   "outputs": [],
   "source": [
    "new_X = vectorizer.transform([new_text])"
   ]
  },
  {
   "cell_type": "code",
   "execution_count": 8,
   "id": "cd0185e9",
   "metadata": {},
   "outputs": [
    {
     "name": "stdout",
     "output_type": "stream",
     "text": [
      "味道好的概率为0.99\n",
      "味道差的概率为0.00\n",
      "态度好的概率为0.20\n",
      "态度差的概率为0.02\n",
      "卫生状态的概率为0.96\n",
      "不新鲜的概率为0.00\n"
     ]
    }
   ],
   "source": [
    "for label, clf in classifiers.items(): \n",
    "    proba = clf.predict_proba(new_X)[0, 1] \n",
    "    print(f'{label}的概率为{proba:.2f}') "
   ]
  },
  {
   "cell_type": "code",
   "execution_count": 9,
   "id": "a8f204ac",
   "metadata": {},
   "outputs": [],
   "source": [
    "#测试 "
   ]
  },
  {
   "cell_type": "code",
   "execution_count": 21,
   "id": "f5d1526e",
   "metadata": {},
   "outputs": [
    {
     "name": "stdout",
     "output_type": "stream",
     "text": [
      "味道好的概率为0.01\n",
      "味道差的概率为0.47\n",
      "态度好的概率为0.48\n",
      "态度差的概率为0.00\n",
      "卫生状态的概率为0.78\n",
      "不新鲜的概率为0.70\n"
     ]
    }
   ],
   "source": [
    "text = '一般但是食材不新鲜，偶尔吃可以，不建议经常吃,鸡肉就算了，闻起来有点发臭，店内不太卫生' \n",
    "text = ' '.join(jieba.cut(text)) \n",
    "text = ' '.join([word for word in text.split() if word not in stopwords]) \n",
    "new_X = vectorizer.transform([text])  \n",
    "for label, clf in classifiers.items(): \n",
    "    proba = clf.predict_proba(new_X)[0, 1] \n",
    "    print(f'{label}的概率为{proba:.2f}') "
   ]
  },
  {
   "cell_type": "code",
   "execution_count": 23,
   "id": "3c429880",
   "metadata": {},
   "outputs": [],
   "source": [
    "import pickle\n",
    "with open('classifiers.pickle', 'wb') as f:\n",
    "    pickle.dump(classifiers, f)\n",
    "with open('data/vectorizer.pickle', 'wb') as f:\n",
    "    pickle.dump(vectorizer, f)"
   ]
  },
  {
   "cell_type": "code",
   "execution_count": null,
   "id": "cabd1710",
   "metadata": {},
   "outputs": [],
   "source": []
  }
 ],
 "metadata": {
  "kernelspec": {
   "display_name": "Python 3 (ipykernel)",
   "language": "python",
   "name": "python3"
  },
  "language_info": {
   "codemirror_mode": {
    "name": "ipython",
    "version": 3
   },
   "file_extension": ".py",
   "mimetype": "text/x-python",
   "name": "python",
   "nbconvert_exporter": "python",
   "pygments_lexer": "ipython3",
   "version": "3.9.16"
  }
 },
 "nbformat": 4,
 "nbformat_minor": 5
}
