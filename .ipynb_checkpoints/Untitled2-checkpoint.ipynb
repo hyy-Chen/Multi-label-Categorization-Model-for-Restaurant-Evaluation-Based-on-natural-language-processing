{
 "cells": [
  {
   "cell_type": "code",
   "execution_count": null,
   "id": "117e6011",
   "metadata": {},
   "outputs": [
    {
     "name": "stdout",
     "output_type": "stream",
     "text": [
      " * Serving Flask app '__main__'\n",
      " * Debug mode: off\n"
     ]
    },
    {
     "name": "stderr",
     "output_type": "stream",
     "text": [
      "WARNING: This is a development server. Do not use it in a production deployment. Use a production WSGI server instead.\n",
      " * Running on http://127.0.0.1:8000\n",
      "Press CTRL+C to quit\n",
      "127.0.0.1 - - [12/May/2023 15:41:04] \"GET /api/get-request HTTP/1.1\" 200 -\n",
      "127.0.0.1 - - [12/May/2023 15:41:39] \"POST /api/post-request HTTP/1.1\" 200 -\n"
     ]
    }
   ],
   "source": [
    "from flask import Flask, request, jsonify\n",
    "\n",
    "app = Flask(__name__)\n",
    "\n",
    "@app.route('/api/get-request', methods=['GET'])\n",
    "def get_request():\n",
    "    data = request.json\n",
    "    result = len(data['str'])\n",
    "    return jsonify({'result': result})\n",
    "\n",
    "@app.route('/api/post-request', methods=['POST'])\n",
    "def post_request():\n",
    "    data = request.json\n",
    "    words = data['str'].split()\n",
    "    result = [len(word) for word in words]\n",
    "    return jsonify(result)\n",
    "\n",
    "if __name__ == '__main__':\n",
    "    app.run(port=8000)"
   ]
  },
  {
   "cell_type": "code",
   "execution_count": 2,
   "id": "b22d0a29",
   "metadata": {},
   "outputs": [
    {
     "name": "stdout",
     "output_type": "stream",
     "text": [
      "Collecting flask\n",
      "  Downloading Flask-2.3.2-py3-none-any.whl (96 kB)\n",
      "     ---------------------------------------- 0.0/96.9 kB ? eta -:--:--\n",
      "     -------------------------------------- - 92.2/96.9 kB ? eta -:--:--\n",
      "     -------------------------------------- - 92.2/96.9 kB ? eta -:--:--\n",
      "     -------------------------------------- - 92.2/96.9 kB ? eta -:--:--\n",
      "     -------------------------------------- - 92.2/96.9 kB ? eta -:--:--\n",
      "     -------------------------------------- - 92.2/96.9 kB ? eta -:--:--\n",
      "     -------------------------------------- - 92.2/96.9 kB ? eta -:--:--\n",
      "     -------------------------------------- - 92.2/96.9 kB ? eta -:--:--\n",
      "     -------------------------------------- - 92.2/96.9 kB ? eta -:--:--\n",
      "     -------------------------------------- - 92.2/96.9 kB ? eta -:--:--\n",
      "     -------------------------------------- - 92.2/96.9 kB ? eta -:--:--\n",
      "     -------------------------------------- - 92.2/96.9 kB ? eta -:--:--\n",
      "     -------------------------------------- - 92.2/96.9 kB ? eta -:--:--\n",
      "     -------------------------------------- - 92.2/96.9 kB ? eta -:--:--\n",
      "     -------------------------------------- - 92.2/96.9 kB ? eta -:--:--\n",
      "     -------------------------------------- - 92.2/96.9 kB ? eta -:--:--\n",
      "     -------------------------------------- - 92.2/96.9 kB ? eta -:--:--\n",
      "     -------------------------------------- - 92.2/96.9 kB ? eta -:--:--\n",
      "     -------------------------------------- - 92.2/96.9 kB ? eta -:--:--\n",
      "     -------------------------------------- - 92.2/96.9 kB ? eta -:--:--\n",
      "     -------------------------------------- - 92.2/96.9 kB ? eta -:--:--\n",
      "     -------------------------------------- - 92.2/96.9 kB ? eta -:--:--\n",
      "     --------------------------------------- 96.9/96.9 kB 97.2 kB/s eta 0:00:00\n",
      "Collecting itsdangerous>=2.1.2\n",
      "  Downloading itsdangerous-2.1.2-py3-none-any.whl (15 kB)\n",
      "Requirement already satisfied: Jinja2>=3.1.2 in d:\\acconda\\envs\\xtgc\\lib\\site-packages (from flask) (3.1.2)\n",
      "Collecting blinker>=1.6.2\n",
      "  Downloading blinker-1.6.2-py3-none-any.whl (13 kB)\n",
      "Collecting Werkzeug>=2.3.3\n",
      "  Downloading Werkzeug-2.3.4-py3-none-any.whl (242 kB)\n",
      "     ---------------------------------------- 0.0/242.5 kB ? eta -:--:--\n",
      "     ----------------------------------- - 235.5/242.5 kB 15.0 MB/s eta 0:00:01\n",
      "     ----------------------------------- - 235.5/242.5 kB 15.0 MB/s eta 0:00:01\n",
      "     ----------------------------------- - 235.5/242.5 kB 15.0 MB/s eta 0:00:01\n",
      "     ----------------------------------- - 235.5/242.5 kB 15.0 MB/s eta 0:00:01\n",
      "     ----------------------------------- - 235.5/242.5 kB 15.0 MB/s eta 0:00:01\n",
      "     ----------------------------------- - 235.5/242.5 kB 15.0 MB/s eta 0:00:01\n",
      "     ----------------------------------- - 235.5/242.5 kB 15.0 MB/s eta 0:00:01\n",
      "     ----------------------------------- - 235.5/242.5 kB 15.0 MB/s eta 0:00:01\n",
      "     ----------------------------------- - 235.5/242.5 kB 15.0 MB/s eta 0:00:01\n",
      "     ----------------------------------- - 235.5/242.5 kB 15.0 MB/s eta 0:00:01\n",
      "     ----------------------------------- - 235.5/242.5 kB 15.0 MB/s eta 0:00:01\n",
      "     ----------------------------------- - 235.5/242.5 kB 15.0 MB/s eta 0:00:01\n",
      "     ----------------------------------- - 235.5/242.5 kB 15.0 MB/s eta 0:00:01\n",
      "     ----------------------------------- - 235.5/242.5 kB 15.0 MB/s eta 0:00:01\n",
      "     ----------------------------------- - 235.5/242.5 kB 15.0 MB/s eta 0:00:01\n",
      "     ----------------------------------- - 235.5/242.5 kB 15.0 MB/s eta 0:00:01\n",
      "     ----------------------------------- - 235.5/242.5 kB 15.0 MB/s eta 0:00:01\n",
      "     ----------------------------------- - 235.5/242.5 kB 15.0 MB/s eta 0:00:01\n",
      "     ----------------------------------- - 235.5/242.5 kB 15.0 MB/s eta 0:00:01\n",
      "     ----------------------------------- - 235.5/242.5 kB 15.0 MB/s eta 0:00:01\n",
      "     ----------------------------------- - 235.5/242.5 kB 15.0 MB/s eta 0:00:01\n",
      "     ----------------------------------- - 235.5/242.5 kB 15.0 MB/s eta 0:00:01\n",
      "     ----------------------------------- - 235.5/242.5 kB 15.0 MB/s eta 0:00:01\n",
      "     ----------------------------------- - 235.5/242.5 kB 15.0 MB/s eta 0:00:01\n",
      "     ----------------------------------- - 235.5/242.5 kB 15.0 MB/s eta 0:00:01\n",
      "     ----------------------------------- - 235.5/242.5 kB 15.0 MB/s eta 0:00:01\n",
      "     ----------------------------------- - 235.5/242.5 kB 15.0 MB/s eta 0:00:01\n",
      "     ----------------------------------- - 235.5/242.5 kB 15.0 MB/s eta 0:00:01\n",
      "     ----------------------------------- - 235.5/242.5 kB 15.0 MB/s eta 0:00:01\n",
      "     ----------------------------------- - 235.5/242.5 kB 15.0 MB/s eta 0:00:01\n",
      "     ----------------------------------- - 235.5/242.5 kB 15.0 MB/s eta 0:00:01\n",
      "     ----------------------------------- - 235.5/242.5 kB 15.0 MB/s eta 0:00:01\n",
      "     ----------------------------------- - 235.5/242.5 kB 15.0 MB/s eta 0:00:01\n",
      "     ----------------------------------- - 235.5/242.5 kB 15.0 MB/s eta 0:00:01\n",
      "     ----------------------------------- - 235.5/242.5 kB 15.0 MB/s eta 0:00:01\n",
      "     ------------------------------------ 242.5/242.5 kB 151.7 kB/s eta 0:00:00\n",
      "Requirement already satisfied: click>=8.1.3 in d:\\acconda\\envs\\xtgc\\lib\\site-packages (from flask) (8.1.3)\n",
      "Requirement already satisfied: importlib-metadata>=3.6.0 in d:\\acconda\\envs\\xtgc\\lib\\site-packages (from flask) (6.1.0)\n",
      "Requirement already satisfied: colorama in d:\\acconda\\envs\\xtgc\\lib\\site-packages (from click>=8.1.3->flask) (0.4.6)\n",
      "Requirement already satisfied: zipp>=0.5 in d:\\acconda\\envs\\xtgc\\lib\\site-packages (from importlib-metadata>=3.6.0->flask) (3.15.0)\n",
      "Requirement already satisfied: MarkupSafe>=2.0 in d:\\acconda\\envs\\xtgc\\lib\\site-packages (from Jinja2>=3.1.2->flask) (2.1.2)\n",
      "Installing collected packages: Werkzeug, itsdangerous, blinker, flask\n",
      "  Attempting uninstall: Werkzeug\n",
      "    Found existing installation: Werkzeug 2.2.3\n",
      "    Uninstalling Werkzeug-2.2.3:\n",
      "      Successfully uninstalled Werkzeug-2.2.3\n",
      "  Attempting uninstall: blinker\n",
      "    Found existing installation: blinker 1.5\n",
      "    Uninstalling blinker-1.5:\n",
      "      Successfully uninstalled blinker-1.5\n",
      "Successfully installed Werkzeug-2.3.4 blinker-1.6.2 flask-2.3.2 itsdangerous-2.1.2\n"
     ]
    },
    {
     "name": "stderr",
     "output_type": "stream",
     "text": [
      "ERROR: pip's dependency resolver does not currently take into account all the packages that are installed. This behaviour is the source of the following dependency conflicts.\n",
      "tensorboard 2.10.0 requires protobuf<3.20,>=3.9.2, but you have protobuf 3.20.2 which is incompatible.\n"
     ]
    }
   ],
   "source": [
    "!pip install flask\n"
   ]
  },
  {
   "cell_type": "code",
   "execution_count": null,
   "id": "b196dce8",
   "metadata": {},
   "outputs": [],
   "source": []
  }
 ],
 "metadata": {
  "kernelspec": {
   "display_name": "Python 3 (ipykernel)",
   "language": "python",
   "name": "python3"
  },
  "language_info": {
   "codemirror_mode": {
    "name": "ipython",
    "version": 3
   },
   "file_extension": ".py",
   "mimetype": "text/x-python",
   "name": "python",
   "nbconvert_exporter": "python",
   "pygments_lexer": "ipython3",
   "version": "3.9.16"
  }
 },
 "nbformat": 4,
 "nbformat_minor": 5
}
